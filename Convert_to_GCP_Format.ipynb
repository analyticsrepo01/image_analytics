{
 "cells": [
  {
   "cell_type": "code",
   "execution_count": 1,
   "id": "20388033-b712-4484-980b-2ad9d1596fb8",
   "metadata": {},
   "outputs": [],
   "source": [
    "import csv"
   ]
  },
  {
   "cell_type": "code",
   "execution_count": 5,
   "id": "e9073ed1-292c-421a-b86e-3737433f5409",
   "metadata": {},
   "outputs": [
    {
     "name": "stdout",
     "output_type": "stream",
     "text": [
      "['image1', 'car', '320', '240', '100', '50']\n",
      "['image1', 'truck', '500', '300', '150', '75']\n",
      "['image2', 'car', '200', '150', '80', '40']\n",
      "['image2', 'truck', '400', '200', '120', '60']\n"
     ]
    }
   ],
   "source": [
    "\n",
    "\n",
    "# Define the input and output filenames\n",
    "input_filename = \"input.csv\"\n",
    "output_filename = \"output.csv\"\n",
    "\n",
    "# Open the input and output files\n",
    "with open(input_filename, \"r\") as input_file, open(output_filename, \"w\") as output_file:\n",
    "    # Create CSV reader and writer objects\n",
    "    csv_reader = csv.reader(input_file)\n",
    "    csv_writer = csv.writer(output_file)\n",
    "    \n",
    "    # Write the header row for the output file\n",
    "    csv_writer.writerow([\"test\", \"image_id\", \"class\", \"X_MIN\", \"Y_MIN\", \"\", \"\", \"X_MAX\", \"Y_MAX\", \"\"])\n",
    "    \n",
    "    # Loop over each row in the input file\n",
    "    for row in csv_reader:\n",
    "        # Extract the relevant fields from the input row\n",
    "        image_id, class_name, x, y, w, h = row\n",
    "        \n",
    "        print(row)\n",
    "        # Calculate the minimum and maximum values for the X and Y coordinates\n",
    "        x_min = float(x) - (float(w) / 2)\n",
    "        y_min = float(y) - (float(h) / 2)\n",
    "        x_max = float(x) + (float(w) / 2)\n",
    "        y_max = float(y) + (float(h) / 2)\n",
    "        \n",
    "        # Write the output row to the output file\n",
    "        csv_writer.writerow([\"test\", image_id, class_name, x_min, y_min, \"\", \"\", x_max, y_max, \"\"])\n"
   ]
  },
  {
   "cell_type": "code",
   "execution_count": 8,
   "id": "6a07ccb6-64a8-4422-aef2-35f0dfc7de78",
   "metadata": {},
   "outputs": [
    {
     "name": "stdout",
     "output_type": "stream",
     "text": [
      "Done!\n"
     ]
    }
   ],
   "source": [
    "import os\n",
    "\n",
    "# Define the input and output directories\n",
    "input_dir = \"labels\"\n",
    "output_dir = \"output_labels\"\n",
    "\n",
    "# Create the output directory if it doesn't exist\n",
    "if not os.path.exists(output_dir):\n",
    "    os.makedirs(output_dir)\n",
    "\n",
    "# Loop over each file in the input directory\n",
    "for filename in os.listdir(input_dir):\n",
    "    if filename.endswith(\".txt\"):\n",
    "        # Construct the input and output file paths\n",
    "        input_path = os.path.join(input_dir, filename)\n",
    "        output_path = os.path.join(output_dir, os.path.splitext(filename)[0] + \".csv\")\n",
    "\n",
    "        # Open the input and output files\n",
    "        with open(input_path, \"r\") as input_file, open(output_path, \"w\") as output_file:\n",
    "            # Write the header row for the output file\n",
    "            output_file.write(\"test,image_id,class,X_MIN,Y_MIN,,,X_MAX,Y_MAX,,\\n\")\n",
    "\n",
    "            # Loop over each line in the input file\n",
    "            for line in input_file:\n",
    "                # Split the line into fields\n",
    "                fields = line.strip().split(\" \")\n",
    "\n",
    "                # Extract the relevant fields\n",
    "                image_id = fields[0]\n",
    "                class_name = fields[0]\n",
    "                x = float(fields[1])\n",
    "                y = float(fields[2])\n",
    "                w = float(fields[3])\n",
    "                h = float(fields[4])\n",
    "\n",
    "                # Calculate the minimum and maximum values for the X and Y coordinates\n",
    "                x_min = x - (w / 2)\n",
    "                y_min = y - (h / 2)\n",
    "                x_max = x + (w / 2)\n",
    "                y_max = y + (h / 2)\n",
    "\n",
    "                # Write the output row to the output file\n",
    "                output_file.write(f\"test,{image_id},{class_name},{x_min},{y_min},,,{x_max},{y_max},,\\n\")\n",
    "\n",
    "print(\"Done!\")\n"
   ]
  },
  {
   "cell_type": "code",
   "execution_count": null,
   "id": "499686a0-7b25-4f45-9303-45c7c40da9ee",
   "metadata": {},
   "outputs": [],
   "source": []
  }
 ],
 "metadata": {
  "environment": {
   "kernel": "python3",
   "name": "tf2-gpu.2-8.m103",
   "type": "gcloud",
   "uri": "gcr.io/deeplearning-platform-release/tf2-gpu.2-8:m103"
  },
  "kernelspec": {
   "display_name": "Python 3 (ipykernel)",
   "language": "python",
   "name": "python3"
  },
  "language_info": {
   "codemirror_mode": {
    "name": "ipython",
    "version": 3
   },
   "file_extension": ".py",
   "mimetype": "text/x-python",
   "name": "python",
   "nbconvert_exporter": "python",
   "pygments_lexer": "ipython3",
   "version": "3.7.12"
  }
 },
 "nbformat": 4,
 "nbformat_minor": 5
}
