{
 "cells": [
  {
   "cell_type": "code",
   "execution_count": 1,
   "id": "20388033-b712-4484-980b-2ad9d1596fb8",
   "metadata": {},
   "outputs": [],
   "source": [
    "import csv"
   ]
  },
  {
   "cell_type": "code",
   "execution_count": 2,
   "id": "e9073ed1-292c-421a-b86e-3737433f5409",
   "metadata": {},
   "outputs": [
    {
     "name": "stdout",
     "output_type": "stream",
     "text": [
      "['image1', 'car', '320', '240', '100', '50']\n",
      "['image1', 'truck', '500', '300', '150', '75']\n",
      "['image2', 'car', '200', '150', '80', '40']\n",
      "['image2', 'truck', '400', '200', '120', '60']\n"
     ]
    }
   ],
   "source": [
    "\n",
    "\n",
    "# Define the input and output filenames\n",
    "input_filename = \"input.csv\"\n",
    "output_filename = \"output.csv\"\n",
    "\n",
    "# Open the input and output files\n",
    "with open(input_filename, \"r\") as input_file, open(output_filename, \"w\") as output_file:\n",
    "    # Create CSV reader and writer objects\n",
    "    csv_reader = csv.reader(input_file)\n",
    "    csv_writer = csv.writer(output_file)\n",
    "    \n",
    "    # Write the header row for the output file\n",
    "    csv_writer.writerow([\"test\", \"image_id\", \"class\", \"X_MIN\", \"Y_MIN\", \"\", \"\", \"X_MAX\", \"Y_MAX\", \"\"])\n",
    "    \n",
    "    # Loop over each row in the input file\n",
    "    for row in csv_reader:\n",
    "        # Extract the relevant fields from the input row\n",
    "        image_id, class_name, x, y, w, h = row\n",
    "        \n",
    "        print(row)\n",
    "        # Calculate the minimum and maximum values for the X and Y coordinates\n",
    "        x_min = float(x) - (float(w) / 2)\n",
    "        y_min = float(y) - (float(h) / 2)\n",
    "        x_max = float(x) + (float(w) / 2)\n",
    "        y_max = float(y) + (float(h) / 2)\n",
    "        \n",
    "        # Write the output row to the output file\n",
    "        csv_writer.writerow([\"test\", image_id, class_name, x_min, y_min, \"\", \"\", x_max, y_max, \"\"])\n"
   ]
  },
  {
   "cell_type": "code",
   "execution_count": 6,
   "id": "6a07ccb6-64a8-4422-aef2-35f0dfc7de78",
   "metadata": {},
   "outputs": [
    {
     "name": "stdout",
     "output_type": "stream",
     "text": [
      "Done!\n"
     ]
    }
   ],
   "source": [
    "import os\n",
    "\n",
    "# Define the input and output directories\n",
    "input_dir = \"labels\"\n",
    "output_dir = \"output\"\n",
    "\n",
    "\n",
    "# Create the output directory if it doesn't exist\n",
    "if not os.path.exists(output_dir):\n",
    "    os.makedirs(output_dir)\n",
    "\n",
    "# Loop over each file in the input directory\n",
    "for filename in os.listdir(input_dir):\n",
    "    if filename.endswith(\".txt\"):\n",
    "        # Construct the input and output file paths\n",
    "        input_path = os.path.join(input_dir, filename)\n",
    "        output_path = os.path.join(output_dir, os.path.splitext(filename)[0] + \".csv\")\n",
    "\n",
    "        # Open the input and output files\n",
    "        with open(input_path, \"r\") as input_file, open(output_path, \"w\") as output_file:\n",
    "            # Write the header row for the output file\n",
    "            output_file.write(\"test,image_id,class,X_MIN,Y_MIN,,,X_MAX,Y_MAX,,\\n\")\n",
    "\n",
    "            # Loop over each line in the input file\n",
    "            for line in input_file:\n",
    "                # Split the line into fields\n",
    "                fields = line.strip().split(\" \")\n",
    "\n",
    "                # Extract the relevant fields\n",
    "                #image_id = fields[0]\n",
    "                image_id = \"gs://my-project-0004-bucket02/garbage_data/\" + os.path.splitext(filename)[0] + \".png\"\n",
    "                #\n",
    "                class_name = fields[0]\n",
    "                x = float(fields[1])\n",
    "                y = float(fields[2])\n",
    "                w = float(fields[3])\n",
    "                h = float(fields[4])\n",
    "\n",
    "                # Calculate the minimum and maximum values for the X and Y coordinates\n",
    "                x_min = x - (w / 2)\n",
    "                y_min = y - (h / 2)\n",
    "                x_max = x + (w / 2)\n",
    "                y_max = y + (h / 2)\n",
    "\n",
    "                \n",
    "                import math\n",
    "\n",
    "                x_min = math.floor(x_min * 1000) / 1000\n",
    "                y_min = math.floor(y_min * 1000) / 1000\n",
    "                x_max = math.floor(x_max * 1000) / 1000\n",
    "                y_max = math.floor(y_max * 1000) / 1000\n",
    "\n",
    "                \n",
    "                # Write the output row to the output file\n",
    "                output_file.write(f\" ,{image_id},{class_name},{x_min},{y_min},,,{x_max},{y_max},,\\n\")\n",
    "\n",
    "print(\"Done!\")\n"
   ]
  },
  {
   "cell_type": "code",
   "execution_count": 7,
   "id": "499686a0-7b25-4f45-9303-45c7c40da9ee",
   "metadata": {},
   "outputs": [
    {
     "name": "stdout",
     "output_type": "stream",
     "text": [
      "/home/jupyter/image_analytics\n"
     ]
    }
   ],
   "source": [
    "!pwd"
   ]
  },
  {
   "cell_type": "code",
   "execution_count": 8,
   "id": "4557b4b0-1af5-45b4-b597-52323a5e03a5",
   "metadata": {},
   "outputs": [],
   "source": [
    "import os\n",
    "import pandas as pd\n",
    "\n",
    "# set the path to the folder containing the CSV files\n",
    "folder_path = \"./output\"\n",
    "\n",
    "# get all CSV files in the folder\n",
    "csv_files = [f for f in os.listdir(folder_path) if f.endswith('.csv')]\n",
    "\n",
    "# create an empty DataFrame to store the combined data\n",
    "combined_data = pd.DataFrame()\n",
    "\n",
    "# loop through each CSV file and append its contents to the combined data\n",
    "for file in csv_files:\n",
    "    file_path = os.path.join(folder_path, file)\n",
    "    data = pd.read_csv(file_path)\n",
    "    combined_data = combined_data.append(data, ignore_index=True)\n",
    "\n",
    "# write the combined data to a new CSV file\n",
    "combined_data.to_csv(\"combined.csv\", index=False)"
   ]
  },
  {
   "cell_type": "code",
   "execution_count": 9,
   "id": "ad3d5137-5e58-4a44-a9e1-5374f89c0669",
   "metadata": {},
   "outputs": [
    {
     "name": "stdout",
     "output_type": "stream",
     "text": [
      "Copying file://./combined.csv [Content-Type=text/csv]...\n",
      "/ [1 files][  2.2 KiB/  2.2 KiB]                                                \n",
      "Operation completed over 1 objects/2.2 KiB.                                      \n"
     ]
    }
   ],
   "source": [
    "!gsutil cp  ./combined.csv gs://my-project-0004-bucket02/garbage_data/"
   ]
  },
  {
   "cell_type": "code",
   "execution_count": null,
   "id": "69bb2d8e-b7b9-4108-928c-44d8b7fb3af1",
   "metadata": {},
   "outputs": [],
   "source": []
  }
 ],
 "metadata": {
  "environment": {
   "kernel": "python3",
   "name": "tf2-gpu.2-8.m103",
   "type": "gcloud",
   "uri": "gcr.io/deeplearning-platform-release/tf2-gpu.2-8:m103"
  },
  "kernelspec": {
   "display_name": "Python 3 (ipykernel)",
   "language": "python",
   "name": "python3"
  },
  "language_info": {
   "codemirror_mode": {
    "name": "ipython",
    "version": 3
   },
   "file_extension": ".py",
   "mimetype": "text/x-python",
   "name": "python",
   "nbconvert_exporter": "python",
   "pygments_lexer": "ipython3",
   "version": "3.7.12"
  }
 },
 "nbformat": 4,
 "nbformat_minor": 5
}
